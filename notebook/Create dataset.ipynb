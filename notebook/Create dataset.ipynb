{
 "cells": [
  {
   "cell_type": "code",
   "execution_count": 1,
   "metadata": {
    "collapsed": false
   },
   "outputs": [],
   "source": [
    "def filterm(mol):\n",
    "    removeh = {\"CH3\":\"C\",\"CH2\":\"C\",\"CH\":\"C\",\"cH2\":\"c\",\"cH\":\"c\"}\n",
    "    new_mol = []\n",
    "    start = False\n",
    "    keep=True\n",
    "    for char in mol:\n",
    "        if char == \"[\":\n",
    "            start = True\n",
    "            keep=True\n",
    "            middle = []\n",
    "            continue\n",
    "        \n",
    "        if start:\n",
    "            if char == \":\":\n",
    "                keep = False\n",
    "            \n",
    "            if char == \"]\":\n",
    "                if len(middle) > 1:\n",
    "                    if \"\".join(middle) in removeh.keys():\n",
    "                        middle = [removeh[\"\".join(middle)]]\n",
    "                                       \n",
    "                        new_mol.extend(middle)\n",
    "                    else:\n",
    "                        new_mol.extend([\"[\"]+middle + [\"]\"])\n",
    "                else:\n",
    "                    new_mol.extend(middle)\n",
    "                start = False \n",
    "            if keep:\n",
    "                middle.append(char)\n",
    "            continue\n",
    "\n",
    "        new_mol.append(char)\n",
    "        \n",
    "    return \"\".join(new_mol)\n",
    "\n",
    "\n",
    "def load_data(fich,filtermol=True,maxilen=None):\n",
    "    Datas = []\n",
    "    maxlen = 0\n",
    "    allsymbol = \"\"\n",
    "    with open(fich,\"r\") as f:\n",
    "        for iligne,ligne in enumerate(f.readlines()):\n",
    "            #print \"Start\",ligne\n",
    "        \n",
    "            if maxilen is not None and iligne >maxilen:\n",
    "                break\n",
    "            start,middle, end = ligne.split(\">\")\n",
    "            end = end.split()[0]\n",
    "            \n",
    "            if filtermol:\n",
    "                start = filterm(start)\n",
    "                middle = filterm(middle)\n",
    "                end = filterm(end)\n",
    "\n",
    "            Datas.append([start,middle,end])\n",
    "            maxlen = max(maxlen,len(Datas[-1][0] + Datas[-1][1]))\n",
    "            allsymbol = set(allsymbol).union(set(Datas[-1][0] + Datas[-1][1]))\n",
    "        \n",
    "    return Datas,maxlen,allsymbol"
   ]
  },
  {
   "cell_type": "code",
   "execution_count": 2,
   "metadata": {
    "collapsed": false
   },
   "outputs": [],
   "source": [
    "fich = \"../data/2001-2013_USPTOapplications_reactionSmiles_feb2014filters.rsmi\"\n",
    "Datas,maxlen,allsymbol = load_data(fich,filtermol=True)\n"
   ]
  },
  {
   "cell_type": "code",
   "execution_count": 3,
   "metadata": {
    "collapsed": false
   },
   "outputs": [],
   "source": [
    "to_train = {}\n",
    "for deb,_,end in Datas:\n",
    "    mols = deb.split(\".\") + end.split(\".\")\n",
    "    for m in mols:\n",
    "        to_train[m] = m\n",
    "    "
   ]
  },
  {
   "cell_type": "code",
   "execution_count": 18,
   "metadata": {
    "collapsed": false
   },
   "outputs": [],
   "source": [
    "import pandas\n",
    "keys = list(to_train.keys())\n",
    "keys.sort()\n",
    "    \n",
    "frame = pandas.DataFrame(dict(structure=[to_train[key] for key in keys if len(key) < 121]))\n",
    "frame.to_hdf(\"test\", 'table')"
   ]
  },
  {
   "cell_type": "code",
   "execution_count": 15,
   "metadata": {
    "collapsed": false
   },
   "outputs": [
    {
     "name": "stdout",
     "output_type": "stream",
     "text": [
      "{'m', '5', ':', 'W', '4', '7', 's', 'I', 'O', '\\\\', '[', 'f', 'H', '9', 'b', 'r', 'K', 'n', 'd', '8', 'T', '+', 'S', 'F', 'c', '(', 'Y', 'e', 'R', 'P', 'a', 'V', 'M', 'D', 'N', '0', 'Z', 'X', 'p', 'l', '.', '2', 'E', 'G', 'y', '#', '-', '6', '1', 'A', 'g', '/', '%', ')', ']', '3', 'B', '@', 'i', 'L', 'o', 'u', '=', 'h', 'C', 't'}\n"
     ]
    }
   ],
   "source": [
    "import numpy as np\n",
    "print(allsymbol)\n",
    "np.save(\"symbols\",np.array(list(allsymbol)))\n",
    "#data = pandas.read_hdf(\"test\",'table')"
   ]
  },
  {
   "cell_type": "code",
   "execution_count": 17,
   "metadata": {
    "collapsed": false
   },
   "outputs": [
    {
     "name": "stdout",
     "output_type": "stream",
     "text": [
      "[]\n"
     ]
    }
   ],
   "source": [
    "print([key for key in keys if type(key) != str])"
   ]
  },
  {
   "cell_type": "code",
   "execution_count": null,
   "metadata": {
    "collapsed": true
   },
   "outputs": [],
   "source": []
  }
 ],
 "metadata": {
  "kernelspec": {
   "display_name": "Python 3",
   "language": "python",
   "name": "python3"
  },
  "language_info": {
   "codemirror_mode": {
    "name": "ipython",
    "version": 3
   },
   "file_extension": ".py",
   "mimetype": "text/x-python",
   "name": "python",
   "nbconvert_exporter": "python",
   "pygments_lexer": "ipython3",
   "version": "3.5.1"
  }
 },
 "nbformat": 4,
 "nbformat_minor": 0
}
